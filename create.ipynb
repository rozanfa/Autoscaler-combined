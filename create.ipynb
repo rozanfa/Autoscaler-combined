{
 "cells": [
  {
   "cell_type": "code",
   "execution_count": 3,
   "metadata": {},
   "outputs": [],
   "source": [
    "text = \"\"\"cast-info-memcached\n",
    "cast-info-mongodb\n",
    "cast-info-service\n",
    "compose-review-memcached\n",
    "compose-review-service\n",
    "jaeger\n",
    "jaeger-loadbalancer\n",
    "movie-id-memcached\n",
    "movie-id-mongodb\n",
    "movie-id-service\n",
    "movie-info-memcached\n",
    "movie-info-mongodb\n",
    "movie-info-service\n",
    "movie-review-mongodb\n",
    "movie-review-redis\n",
    "movie-review-service\n",
    "nginx-web-server\n",
    "page-service\n",
    "plot-memcached\n",
    "plot-mongodb\n",
    "plot-service\n",
    "rating-redis\n",
    "rating-service\n",
    "review-storage-memcached\n",
    "review-storage-mongodb\n",
    "review-storage-service\n",
    "text-service\n",
    "unique-id-service\n",
    "user-memcached\n",
    "user-mongodb\n",
    "user-review-mongodb\n",
    "user-review-redis\n",
    "user-review-service\n",
    "user-service\n",
    "\"\"\""
   ]
  },
  {
   "cell_type": "code",
   "execution_count": 6,
   "metadata": {},
   "outputs": [],
   "source": [
    "services = text.split(\"\\n\")"
   ]
  },
  {
   "cell_type": "code",
   "execution_count": 8,
   "metadata": {},
   "outputs": [],
   "source": [
    "containers = {}\n",
    "for service in services:\n",
    "    containers[service] = {\n",
    "        \"desired_metrics\": {\n",
    "            \"cpu\": 100,\n",
    "            \"memory\": 300,\n",
    "        },\n",
    "        \"min_replicas\": 1,\n",
    "        \"max_replicas\": 10,\n",
    "    }"
   ]
  },
  {
   "cell_type": "code",
   "execution_count": 11,
   "metadata": {},
   "outputs": [],
   "source": [
    "config = {}\n",
    "config[\"containers\"] = containers\n",
    "config[\"namespace\"] = \"media-micoservices\"\n",
    "config[\"n_steps\"] = 30\n",
    "config[\"periode\"] = 10"
   ]
  },
  {
   "cell_type": "code",
   "execution_count": 14,
   "metadata": {},
   "outputs": [],
   "source": [
    "import json\n",
    "json_config = json.dumps(config, indent=4)"
   ]
  },
  {
   "cell_type": "code",
   "execution_count": 13,
   "metadata": {},
   "outputs": [
    {
     "data": {
      "text/plain": [
       "'{\\n    \"containers\": {\\n        \"cast-info-memcached\": {\\n            \"desired_metrics\": {\\n                \"cpu\": 100,\\n                \"memory\": 300\\n            },\\n            \"min_replicas\": 1,\\n            \"max_replicas\": 10\\n        },\\n        \"cast-info-mongodb\": {\\n            \"desired_metrics\": {\\n                \"cpu\": 100,\\n                \"memory\": 300\\n            },\\n            \"min_replicas\": 1,\\n            \"max_replicas\": 10\\n        },\\n        \"cast-info-service\": {\\n            \"desired_metrics\": {\\n                \"cpu\": 100,\\n                \"memory\": 300\\n            },\\n            \"min_replicas\": 1,\\n            \"max_replicas\": 10\\n        },\\n        \"compose-review-memcached\": {\\n            \"desired_metrics\": {\\n                \"cpu\": 100,\\n                \"memory\": 300\\n            },\\n            \"min_replicas\": 1,\\n            \"max_replicas\": 10\\n        },\\n        \"compose-review-service\": {\\n            \"desired_metrics\": {\\n                \"cpu\": 100,\\n                \"memory\": 300\\n            },\\n            \"min_replicas\": 1,\\n            \"max_replicas\": 10\\n        },\\n        \"jaeger\": {\\n            \"desired_metrics\": {\\n                \"cpu\": 100,\\n                \"memory\": 300\\n            },\\n            \"min_replicas\": 1,\\n            \"max_replicas\": 10\\n        },\\n        \"jaeger-loadbalancer\": {\\n            \"desired_metrics\": {\\n                \"cpu\": 100,\\n                \"memory\": 300\\n            },\\n            \"min_replicas\": 1,\\n            \"max_replicas\": 10\\n        },\\n        \"movie-id-memcached\": {\\n            \"desired_metrics\": {\\n                \"cpu\": 100,\\n                \"memory\": 300\\n            },\\n            \"min_replicas\": 1,\\n            \"max_replicas\": 10\\n        },\\n        \"movie-id-mongodb\": {\\n            \"desired_metrics\": {\\n                \"cpu\": 100,\\n                \"memory\": 300\\n            },\\n            \"min_replicas\": 1,\\n            \"max_replicas\": 10\\n        },\\n        \"movie-id-service\": {\\n            \"desired_metrics\": {\\n                \"cpu\": 100,\\n                \"memory\": 300\\n            },\\n            \"min_replicas\": 1,\\n            \"max_replicas\": 10\\n        },\\n        \"movie-info-memcached\": {\\n            \"desired_metrics\": {\\n                \"cpu\": 100,\\n                \"memory\": 300\\n            },\\n            \"min_replicas\": 1,\\n            \"max_replicas\": 10\\n        },\\n        \"movie-info-mongodb\": {\\n            \"desired_metrics\": {\\n                \"cpu\": 100,\\n                \"memory\": 300\\n            },\\n            \"min_replicas\": 1,\\n            \"max_replicas\": 10\\n        },\\n        \"movie-info-service\": {\\n            \"desired_metrics\": {\\n                \"cpu\": 100,\\n                \"memory\": 300\\n            },\\n            \"min_replicas\": 1,\\n            \"max_replicas\": 10\\n        },\\n        \"movie-review-mongodb\": {\\n            \"desired_metrics\": {\\n                \"cpu\": 100,\\n                \"memory\": 300\\n            },\\n            \"min_replicas\": 1,\\n            \"max_replicas\": 10\\n        },\\n        \"movie-review-redis\": {\\n            \"desired_metrics\": {\\n                \"cpu\": 100,\\n                \"memory\": 300\\n            },\\n            \"min_replicas\": 1,\\n            \"max_replicas\": 10\\n        },\\n        \"movie-review-service\": {\\n            \"desired_metrics\": {\\n                \"cpu\": 100,\\n                \"memory\": 300\\n            },\\n            \"min_replicas\": 1,\\n            \"max_replicas\": 10\\n        },\\n        \"nginx-web-server\": {\\n            \"desired_metrics\": {\\n                \"cpu\": 100,\\n                \"memory\": 300\\n            },\\n            \"min_replicas\": 1,\\n            \"max_replicas\": 10\\n        },\\n        \"page-service\": {\\n            \"desired_metrics\": {\\n                \"cpu\": 100,\\n                \"memory\": 300\\n            },\\n            \"min_replicas\": 1,\\n            \"max_replicas\": 10\\n        },\\n        \"plot-memcached\": {\\n            \"desired_metrics\": {\\n                \"cpu\": 100,\\n                \"memory\": 300\\n            },\\n            \"min_replicas\": 1,\\n            \"max_replicas\": 10\\n        },\\n        \"plot-mongodb\": {\\n            \"desired_metrics\": {\\n                \"cpu\": 100,\\n                \"memory\": 300\\n            },\\n            \"min_replicas\": 1,\\n            \"max_replicas\": 10\\n        },\\n        \"plot-service\": {\\n            \"desired_metrics\": {\\n                \"cpu\": 100,\\n                \"memory\": 300\\n            },\\n            \"min_replicas\": 1,\\n            \"max_replicas\": 10\\n        },\\n        \"rating-redis\": {\\n            \"desired_metrics\": {\\n                \"cpu\": 100,\\n                \"memory\": 300\\n            },\\n            \"min_replicas\": 1,\\n            \"max_replicas\": 10\\n        },\\n        \"rating-service\": {\\n            \"desired_metrics\": {\\n                \"cpu\": 100,\\n                \"memory\": 300\\n            },\\n            \"min_replicas\": 1,\\n            \"max_replicas\": 10\\n        },\\n        \"review-storage-memcached\": {\\n            \"desired_metrics\": {\\n                \"cpu\": 100,\\n                \"memory\": 300\\n            },\\n            \"min_replicas\": 1,\\n            \"max_replicas\": 10\\n        },\\n        \"review-storage-mongodb\": {\\n            \"desired_metrics\": {\\n                \"cpu\": 100,\\n                \"memory\": 300\\n            },\\n            \"min_replicas\": 1,\\n            \"max_replicas\": 10\\n        },\\n        \"review-storage-service\": {\\n            \"desired_metrics\": {\\n                \"cpu\": 100,\\n                \"memory\": 300\\n            },\\n            \"min_replicas\": 1,\\n            \"max_replicas\": 10\\n        },\\n        \"text-service\": {\\n            \"desired_metrics\": {\\n                \"cpu\": 100,\\n                \"memory\": 300\\n            },\\n            \"min_replicas\": 1,\\n            \"max_replicas\": 10\\n        },\\n        \"unique-id-service\": {\\n            \"desired_metrics\": {\\n                \"cpu\": 100,\\n                \"memory\": 300\\n            },\\n            \"min_replicas\": 1,\\n            \"max_replicas\": 10\\n        },\\n        \"user-memcached\": {\\n            \"desired_metrics\": {\\n                \"cpu\": 100,\\n                \"memory\": 300\\n            },\\n            \"min_replicas\": 1,\\n            \"max_replicas\": 10\\n        },\\n        \"user-mongodb\": {\\n            \"desired_metrics\": {\\n                \"cpu\": 100,\\n                \"memory\": 300\\n            },\\n            \"min_replicas\": 1,\\n            \"max_replicas\": 10\\n        },\\n        \"user-review-mongodb\": {\\n            \"desired_metrics\": {\\n                \"cpu\": 100,\\n                \"memory\": 300\\n            },\\n            \"min_replicas\": 1,\\n            \"max_replicas\": 10\\n        },\\n        \"user-review-redis\": {\\n            \"desired_metrics\": {\\n                \"cpu\": 100,\\n                \"memory\": 300\\n            },\\n            \"min_replicas\": 1,\\n            \"max_replicas\": 10\\n        },\\n        \"user-review-service\": {\\n            \"desired_metrics\": {\\n                \"cpu\": 100,\\n                \"memory\": 300\\n            },\\n            \"min_replicas\": 1,\\n            \"max_replicas\": 10\\n        },\\n        \"user-service\": {\\n            \"desired_metrics\": {\\n                \"cpu\": 100,\\n                \"memory\": 300\\n            },\\n            \"min_replicas\": 1,\\n            \"max_replicas\": 10\\n        },\\n        \"\": {\\n            \"desired_metrics\": {\\n                \"cpu\": 100,\\n                \"memory\": 300\\n            },\\n            \"min_replicas\": 1,\\n            \"max_replicas\": 10\\n        }\\n    },\\n    \"namespace\": \"media-micoservices\",\\n    \"n_steps\": 30,\\n    \"periode\": 10\\n}'"
      ]
     },
     "execution_count": 13,
     "metadata": {},
     "output_type": "execute_result"
    }
   ],
   "source": []
  },
  {
   "cell_type": "code",
   "execution_count": 15,
   "metadata": {},
   "outputs": [],
   "source": [
    "# Write the json config to a file\n",
    "with open(\"config-media-microservices.json\", \"w\") as f:\n",
    "    f.write(json_config)"
   ]
  }
 ],
 "metadata": {
  "kernelspec": {
   "display_name": ".venv",
   "language": "python",
   "name": "python3"
  },
  "language_info": {
   "codemirror_mode": {
    "name": "ipython",
    "version": 3
   },
   "file_extension": ".py",
   "mimetype": "text/x-python",
   "name": "python",
   "nbconvert_exporter": "python",
   "pygments_lexer": "ipython3",
   "version": "3.10.13"
  }
 },
 "nbformat": 4,
 "nbformat_minor": 2
}
